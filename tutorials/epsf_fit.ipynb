{
 "cells": [
  {
   "cell_type": "markdown",
   "id": "7a2af606",
   "metadata": {
    "vscode": {
     "languageId": "plaintext"
    }
   },
   "source": [
    "# ePSF Fitting\n",
    "\n",
    "This version of TGLC includes generic functions that can be used to fit an ePSF to an image with known star positions and brightnesses. This tutorial simulates an FFI cutout and then walks fitting an ePSF for the cutout.\n",
    "\n",
    "To install the notebook dependencies, run the following in your python environment (a virtual environment is a good idea!):\n",
    "\n",
    "```shell\n",
    "pip install astropy matplotlib numpy jupyter photutils \"tglc @ git+ssh://github.com/mit-kavli-institute/tess-gaia-light-curve\"\n",
    "```\n"
   ]
  },
  {
   "cell_type": "code",
   "execution_count": null,
   "id": "37607f00",
   "metadata": {},
   "outputs": [],
   "source": [
    "from astropy.visualization import simple_norm\n",
    "import matplotlib.pyplot as plt\n",
    "import numpy as np\n",
    "from photutils.datasets import make_model_image, make_model_params, make_noise_image\n",
    "from photutils.psf import CircularGaussianPSF\n",
    "\n",
    "from tglc.epsf import fit_epsf, make_tglc_design_matrix\n",
    "from tglc.utils.constants import convert_tess_magnitude_to_tess_flux\n"
   ]
  },
  {
   "cell_type": "markdown",
   "id": "00bad526",
   "metadata": {},
   "source": [
    "## Create simulated image\n",
    "\n",
    "First we create a simulated 150x150 image, like the cutouts TGLC uses from actual TESS FFIs. We use a circular Gaussian PSF with FWHM 1.5 and 1000 sources with Tmag <= 13, in an exponential distribution favoring dim stars.\n"
   ]
  },
  {
   "cell_type": "code",
   "execution_count": null,
   "id": "e026cf11",
   "metadata": {},
   "outputs": [],
   "source": [
    "seed = 3141592"
   ]
  },
  {
   "cell_type": "code",
   "execution_count": null,
   "id": "61badcf2",
   "metadata": {},
   "outputs": [],
   "source": [
    "model = CircularGaussianPSF()\n",
    "shape = (150, 150)\n",
    "n_sources = 1000\n",
    "params = make_model_params(\n",
    "    shape,\n",
    "    n_sources,\n",
    "    x_name=\"x_0\",\n",
    "    y_name=\"y_0\",\n",
    "    fwhm=(1.5, 1.5),\n",
    "    seed=seed,\n",
    ")\n",
    "# Update flux values to reflect true Tmag distribution\n",
    "rng = np.random.default_rng(seed)\n",
    "tmag = 13 - rng.exponential(0.75, n_sources)\n",
    "params[\"flux\"] = convert_tess_magnitude_to_tess_flux(tmag).value"
   ]
  },
  {
   "cell_type": "code",
   "execution_count": null,
   "id": "904fdfbe",
   "metadata": {},
   "outputs": [],
   "source": [
    "plt.xscale(\"log\")\n",
    "plt.hist(params[\"flux\"], bins=200)\n",
    "plt.xlabel(\"Flux\")\n",
    "plt.ylabel(\"Number of sources\")\n",
    "plt.title(\"Flux Distribution (log scale)\")"
   ]
  },
  {
   "cell_type": "code",
   "execution_count": null,
   "id": "5fba18be",
   "metadata": {},
   "outputs": [],
   "source": [
    "model_shape = (11, 11)\n",
    "simulated_cutout = make_model_image(\n",
    "    shape, model, params, model_shape=model_shape, x_name=\"x_0\", y_name=\"y_0\"\n",
    ")\n",
    "\n",
    "noise = make_noise_image(shape, distribution=\"gaussian\", mean=5, stddev=2, seed=seed)\n",
    "simulated_cutout += noise"
   ]
  },
  {
   "cell_type": "code",
   "execution_count": null,
   "id": "6338afc9",
   "metadata": {},
   "outputs": [],
   "source": [
    "fig, ax = plt.subplots(figsize=(6, 6))\n",
    "norm = simple_norm(simulated_cutout, \"sqrt\", percent=99)\n",
    "ax.imshow(simulated_cutout, norm=norm, origin=\"lower\")\n",
    "ax.scatter(params[\"x_0\"], params[\"y_0\"], s=1, marker=\".\", color=\"red\")\n",
    "ax.set(xlim=(0, shape[1]), ylim=(0, shape[0]))\n",
    "ax.set_title(\"Simulated image\")"
   ]
  },
  {
   "cell_type": "markdown",
   "id": "00367c96",
   "metadata": {},
   "source": [
    "## Fitting an ePSF\n",
    "\n",
    "Now, we fit an ePSF for the simulated cutout using TGLC's linear methods. We can choose a shape `(sy, sx)` of the PSF model in pixel coordinates, and an oversampling factor `f`. Then evaluating the PSF amounts to linearly interpolating a grid with shape `(sy * f + 1, sx * f + 1)`. There are also 6 parameters used to describe the background: 3 for a linear gradient background and 3 for a spatially-varying contribution from TESS's CCD \"straps.\" We will ignore the background strap contributions for now, but TGLC's package data does include FITS files with the strap data for each CCD.\n",
    "\n",
    "To run the ePSF fit, we flatten the `(sy * f + 1, sx * f + 1)` PSF grid into a column vector of parameters, plus the 6 background parameters. We also flatten the cutout into a column vector as our observed data. We then create a design matrix `M` where `M[r, c]` gives the contribution of model parameter `r` to observed data `c`. So, if `p` is our column vector of model parameters and `o` is our column vector of observed data, we are running a least squares fit for the equation `Mp =~ o`.\n",
    "\n",
    "For proper regularization, the design matrix for running fits has additional data compared to the design matrix described above. This extra data is added when `edge_compression_scale_factor` is specified in `make_tglc_design_matrix`; when it is omitted, the design matrix produced is as described above. Note that `make_tglc_design_matrix` can also make a design matrix that omits the background parameters, which happens if `background_strap_mask` is not specified - this is why we set `background_strap_mask` to all zeros in the code below rather than omitting it.\n",
    "\n",
    "Because the design matrix used for fitting has extra information, it is not appropriate for forward modeling once we have obtained the optimal model parameters. Therefore, we use a new design matix to forward model the cutout.\n"
   ]
  },
  {
   "cell_type": "code",
   "execution_count": null,
   "id": "e6d3b920",
   "metadata": {},
   "outputs": [],
   "source": [
    "star_positions = np.column_stack([params[\"x_0\"].data, params[\"y_0\"].data])\n",
    "flux_ratios = params[\"flux\"] / max(params[\"flux\"])\n",
    "psf_shape_pixels = (11, 11)\n",
    "oversample_factor = 2\n",
    "\n",
    "# Note: the make_tglc_design_matrix function is just-in-time (JIT) compiled, so it will be slow on\n",
    "# the first time it is called but much faster after that\n",
    "fit_design_matrix, regularization_dimensions = make_tglc_design_matrix(\n",
    "    shape,\n",
    "    psf_shape_pixels,\n",
    "    oversample_factor,\n",
    "    star_positions,\n",
    "    flux_ratios,\n",
    "    background_strap_mask=np.zeros(shape),  # no contribution from CCD straps\n",
    "    edge_compression_scale_factor=1e-4,\n",
    ")\n",
    "epsf = fit_epsf(\n",
    "    fit_design_matrix, simulated_cutout, np.zeros(shape, dtype=bool), 1.4, regularization_dimensions\n",
    ")"
   ]
  },
  {
   "cell_type": "code",
   "execution_count": null,
   "id": "e2f62929",
   "metadata": {},
   "outputs": [],
   "source": [
    "plt.imshow(epsf[:-6].reshape(23, 23), extent=(-11.5, 11.5, -11.5, 11.5), origin=\"lower\")\n",
    "plt.scatter(0, 0, marker=\".\", color=\"red\")\n",
    "plt.title(\"ePSF\")"
   ]
  },
  {
   "cell_type": "code",
   "execution_count": null,
   "id": "836e3484",
   "metadata": {},
   "outputs": [],
   "source": [
    "forward_model_design_matrix, _ = make_tglc_design_matrix(\n",
    "    shape, (11, 11), 2, star_positions, flux_ratios, np.zeros(shape)\n",
    ")\n",
    "model_data = (forward_model_design_matrix @ epsf).reshape(shape)"
   ]
  },
  {
   "cell_type": "code",
   "execution_count": null,
   "id": "ef4bb20f",
   "metadata": {},
   "outputs": [],
   "source": [
    "norm = simple_norm(np.stack([simulated_cutout, model_data]), \"sqrt\", percent=99)\n",
    "\n",
    "fig, (ax1, ax2) = plt.subplots(1, 2, figsize=(12, 6))\n",
    "ax1.imshow(simulated_cutout, norm=norm, origin=\"lower\")\n",
    "ax1.scatter(params[\"x_0\"], params[\"y_0\"], s=1, marker=\".\", color=\"red\")\n",
    "ax1.set(xlim=(-0.5, shape[1] - 0.5), ylim=(-0.5, shape[0] - 0.5))\n",
    "ax1.set_title(\"Simulated image\")\n",
    "\n",
    "ax2.imshow(model_data, norm=norm, origin=\"lower\")\n",
    "ax2.scatter(params[\"x_0\"], params[\"y_0\"], s=1, marker=\".\", color=\"red\")\n",
    "ax2.set(xlim=(-0.5, shape[1] - 0.5), ylim=(-0.5, shape[0] - 0.5))\n",
    "ax2.set_title(\"Image with ePSF model\")"
   ]
  },
  {
   "cell_type": "code",
   "execution_count": null,
   "id": "359e2308",
   "metadata": {},
   "outputs": [],
   "source": []
  }
 ],
 "metadata": {
  "kernelspec": {
   "display_name": ".venv",
   "language": "python",
   "name": "python3"
  },
  "language_info": {
   "codemirror_mode": {
    "name": "ipython",
    "version": 3
   },
   "file_extension": ".py",
   "mimetype": "text/x-python",
   "name": "python",
   "nbconvert_exporter": "python",
   "pygments_lexer": "ipython3",
   "version": "3.11.12"
  }
 },
 "nbformat": 4,
 "nbformat_minor": 5
}
